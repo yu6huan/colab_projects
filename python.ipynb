{
  "nbformat": 4,
  "nbformat_minor": 0,
  "metadata": {
    "colab": {
      "provenance": [],
      "include_colab_link": true
    },
    "kernelspec": {
      "name": "python3",
      "display_name": "Python 3"
    }
  },
  "cells": [
    {
      "cell_type": "markdown",
      "metadata": {
        "id": "view-in-github",
        "colab_type": "text"
      },
      "source": [
        "<a href=\"https://colab.research.google.com/github/yu6huan/colab_projects/blob/main/python.ipynb\" target=\"_parent\"><img src=\"https://colab.research.google.com/assets/colab-badge.svg\" alt=\"Open In Colab\"/></a>"
      ]
    },
    {
      "cell_type": "code",
      "metadata": {
        "id": "QACmPzdtIz3y",
        "colab": {
          "base_uri": "https://localhost:8080/"
        },
        "outputId": "1015c7a3-b19e-412e-8563-1aadcc53572b"
      },
      "source": [
        "# print\n",
        "print(\"Hello World\")\n",
        "\n",
        "# 練習1\n",
        "#試著print出自己想要的內容"
      ],
      "execution_count": null,
      "outputs": [
        {
          "output_type": "stream",
          "name": "stdout",
          "text": [
            "Hello World\n"
          ]
        }
      ]
    },
    {
      "cell_type": "code",
      "source": [
        "# 字符串 (string)\n",
        "name = \"Alice\"\n",
        "print(name)\n",
        "# 數字 (number)\n",
        "age = 16\n",
        "print(age)\n",
        "# 布爾值 (boolean)\n",
        "is_student = True\n",
        "print(is_student)\n",
        "# 陣列 (array)\n",
        "scores = [90, 80, 70, 85]\n",
        "print(scores)\n",
        "# 字典 (dictionary)\n",
        "grades = {\n",
        "    'Math': 90,\n",
        "    'English': 80,\n",
        "    'Physics': 70,\n",
        "    'Chemistry': 85\n",
        "}\n",
        "print(grades)"
      ],
      "metadata": {
        "id": "fOSqgkVvESTx",
        "outputId": "7f3e50cb-37f6-44c1-8790-7c5e02e7fcd1",
        "colab": {
          "base_uri": "https://localhost:8080/"
        }
      },
      "execution_count": null,
      "outputs": [
        {
          "output_type": "stream",
          "name": "stdout",
          "text": [
            "Alice\n",
            "16\n",
            "True\n",
            "[90, 80, 70, 85]\n",
            "{'Math': 90, 'English': 80, 'Physics': 70, 'Chemistry': 85}\n"
          ]
        }
      ]
    },
    {
      "cell_type": "code",
      "metadata": {
        "colab": {
          "base_uri": "https://localhost:8080/"
        },
        "id": "YhCJnQ9Ki_2C",
        "outputId": "ef079c00-afa8-4b5f-8731-3bf2ece91027"
      },
      "source": [
        "fifth_letter = \"Share a doc to me\"\n",
        "# [0, 1, 2, 3, 4]\n",
        "# index 是從 0 開始\n",
        "print(fifth_letter[4])\n",
        "\n",
        "a = 5\n",
        "b = 10\n",
        "c = a / b\n",
        "a = a % b\n",
        "\n",
        "d = (a+b)*c"
      ],
      "execution_count": null,
      "outputs": [
        {
          "output_type": "stream",
          "name": "stdout",
          "text": [
            "a\n"
          ]
        }
      ]
    },
    {
      "cell_type": "code",
      "metadata": {
        "id": "Zc6rCSL2I8CE",
        "colab": {
          "base_uri": "https://localhost:8080/"
        },
        "outputId": "3c517506-dc6d-4434-913d-aa6a246ed29b"
      },
      "source": [
        "# python型別一: number\n",
        "\n",
        "num = 5\n",
        "\n",
        "num = 10 + 5\n",
        "\n",
        "a = 5\n",
        "b = 8\n",
        "c = a * b\n",
        "print(c)\n",
        "a = a * b\n",
        "print(a)\n",
        "\n",
        "#問題1：請問a跟c現在是一樣的嗎?\n",
        "\n",
        "\n",
        "\n",
        "\n",
        "#練習2: 試著自己瞭解看看以下內容:\n",
        "\n",
        "firstNum = 20\n",
        "secondNum = 6\n",
        "\n",
        "ans = firstNum / secondNum\n",
        "ans = firstNum % secondNum\n"
      ],
      "execution_count": null,
      "outputs": [
        {
          "output_type": "stream",
          "text": [
            "40\n",
            "40\n"
          ],
          "name": "stdout"
        }
      ]
    },
    {
      "cell_type": "code",
      "metadata": {
        "id": "YligUVMgMA6D",
        "colab": {
          "base_uri": "https://localhost:8080/"
        },
        "outputId": "344b6920-7f7b-4505-e8f4-631ecd0d5e9d"
      },
      "source": [
        "# python型別二: string\n",
        "\n",
        "word = \"Hello\"\n",
        "\n",
        "\n",
        "fifth_letter = \"Share\"\n",
        "list_letter = [\"share\", \"account\", \"passcode\"]\n",
        "print(list_letter[0])\n",
        "print(fifth_letter[0])\n",
        "\n",
        "animal = \"Dog is an Animal\"\n",
        "\n",
        "print (len(animal))\n",
        "print (animal.lower())\n",
        "print (animal.upper())\n",
        "\n",
        "age = 20\n",
        "\n",
        "str(age)\n",
        "\n",
        "mood = \"Happy\"\n",
        "\n",
        "name = \"Dog\"\n",
        "\n",
        "result = \"I'm \" + str(age)  #string不能直接+ int所以需轉換type\n",
        "\n",
        "print (result)\n",
        "print (mood + name)"
      ],
      "execution_count": null,
      "outputs": [
        {
          "output_type": "stream",
          "name": "stdout",
          "text": [
            "share\n",
            "S\n",
            "16\n",
            "dog is an animal\n",
            "DOG IS AN ANIMAL\n",
            "I'm 20\n",
            "HappyDog\n"
          ]
        }
      ]
    },
    {
      "cell_type": "code",
      "source": [
        "animal = \"Dog is an Animal\"\n",
        "\n",
        "print (len(animal))\n",
        "print (animal.lower())\n",
        "print (animal.upper())"
      ],
      "metadata": {
        "colab": {
          "base_uri": "https://localhost:8080/"
        },
        "id": "DT6rekKCDDC9",
        "outputId": "924cac77-1612-4d26-f533-42cd1e07a79b"
      },
      "execution_count": null,
      "outputs": [
        {
          "output_type": "stream",
          "name": "stdout",
          "text": [
            "16\n",
            "dog is an animal\n",
            "DOG IS AN ANIMAL\n"
          ]
        }
      ]
    },
    {
      "cell_type": "code",
      "source": [
        "# 課堂練習1:\n",
        "\n",
        "sent = \"Today is a good day!\"\n",
        "\n",
        "# 1: print 出句子長度\n",
        "\n",
        "# 2: 把句子轉成大寫\n",
        "\n",
        "# 3: 把句子轉小寫\n",
        "\n",
        "\n",
        "\n",
        "\n",
        "\n",
        "\n",
        "\n",
        "\n",
        "\n",
        "\n",
        "\n",
        "\n",
        "\n",
        "\n",
        "\n",
        "print(len(sent))\n",
        "print(sent.upper())\n",
        "print(sent.lower())"
      ],
      "metadata": {
        "id": "Ue7m-5qKDQLF"
      },
      "execution_count": null,
      "outputs": []
    },
    {
      "cell_type": "code",
      "source": [],
      "metadata": {
        "id": "KwoSRiZnTTNY"
      },
      "execution_count": null,
      "outputs": []
    },
    {
      "cell_type": "code",
      "metadata": {
        "id": "qNZo9nf7SYdE",
        "colab": {
          "base_uri": "https://localhost:8080/"
        },
        "outputId": "8e9c8ef0-d79f-4071-e7a1-70bcff2e437f"
      },
      "source": [
        "#補充 print\n",
        "\n",
        "string_1 = \"San Francisco\"\n",
        "string_2 = \"Silicon Valley\"\n",
        "string_3 = \"Taipei\"\n",
        "string_4 = '101'\n",
        "\n",
        "\n",
        "\n",
        "print(\"Let's go to %s. It's very close to %s.\" % (string_3, string_4))\n",
        "print(\"Let's go to %s. It's very close to %s.\" % (string_2, string_1))\n",
        "\n",
        "\n",
        "total = 20 / 6\n",
        "\n",
        "print(\"It is a float number %.9f\" % total)\n",
        "print(\"%d\" % total)"
      ],
      "execution_count": null,
      "outputs": [
        {
          "output_type": "stream",
          "name": "stdout",
          "text": [
            "Let's go to Taipei. It's very close to 101.\n",
            "Let's go to Silicon Valley. It's very close to San Francisco.\n",
            "It is a float number 3.333333333\n",
            "3\n"
          ]
        }
      ]
    },
    {
      "cell_type": "code",
      "source": [
        "# 課堂練習2\n",
        "\n",
        "# 請寫出 2個變數，並利用 %s print 出\n",
        "\n",
        "\n",
        "\n",
        "a = \"test\"\n",
        "b = \"English\"\n",
        "\n",
        "print(\"The subject of %s is %s.\" % (a, b))"
      ],
      "metadata": {
        "colab": {
          "base_uri": "https://localhost:8080/"
        },
        "id": "ItXq8aHzGbW2",
        "outputId": "080892b5-5e27-412f-95d6-56fc406222da"
      },
      "execution_count": null,
      "outputs": [
        {
          "output_type": "stream",
          "name": "stdout",
          "text": [
            "The subject of test is English.\n"
          ]
        }
      ]
    },
    {
      "cell_type": "code",
      "metadata": {
        "id": "JhdMbJlgY8Wd",
        "colab": {
          "base_uri": "https://localhost:8080/"
        },
        "outputId": "3afb0dff-2434-4084-fef5-3a113ceca12b"
      },
      "source": [
        "# Conditional 條件式邏輯\n",
        "\n",
        "\n",
        "#情境一：去超市買蘋果\n",
        "\n",
        "box = \"orange\"\n",
        "\n",
        "if box == 'apple':\n",
        "  print (\"found\")\n",
        "else:\n",
        "  print (\"not found\")\n",
        "\n",
        "\n",
        "#情境二 去超市買蘋果，如果沒有頻果就買香蕉\n",
        "\n",
        "b = \"pineapple\"\n",
        "\n",
        "if b == \"apple\":\n",
        "  print (\"%s is my first choice\" % b)\n",
        "elif b == \"banana\":\n",
        "  print (\"%s is my second choice\" % b)\n",
        "else:\n",
        "  print (\"not found\")\n",
        "  print(\"Hi\")\n",
        "  print(\"Test\")\n"
      ],
      "execution_count": null,
      "outputs": [
        {
          "output_type": "stream",
          "name": "stdout",
          "text": [
            "not found\n",
            "not found\n",
            "Hi\n",
            "Test\n"
          ]
        }
      ]
    },
    {
      "cell_type": "code",
      "source": [
        "# 課堂練習3\n",
        "\n",
        "text = \"test\"\n",
        "\n",
        "# .lower() .upper()\n",
        "# if text is lower: print('all text are lower') / if your text is upper, then print('all text are upper')\n",
        "\n",
        "\n",
        "if text == text.lower():\n",
        "  print('all text are lower')\n",
        "elif text == text.upper():\n",
        "  print(\"all text are upper\")\n",
        "else:\n",
        "  print('bad result')"
      ],
      "metadata": {
        "colab": {
          "base_uri": "https://localhost:8080/"
        },
        "id": "oQzjTjCZMIUX",
        "outputId": "b27ec74f-a7c4-4ef0-f26a-dc8431380d6e"
      },
      "execution_count": null,
      "outputs": [
        {
          "output_type": "stream",
          "name": "stdout",
          "text": [
            "all text are lower\n"
          ]
        }
      ]
    },
    {
      "cell_type": "code",
      "metadata": {
        "id": "zBBmctdKPm36",
        "colab": {
          "base_uri": "https://localhost:8080/"
        },
        "outputId": "256c0a69-1850-44d0-a943-db11bd5ab171"
      },
      "source": [
        "# define function\n",
        "# def function_name()\n",
        "\n",
        "def burgerMaker(material1, material2, material3):\n",
        "\tprint(\"%s + %s + %s is a burger! \" % (material1, material2, material3))\n",
        "\n",
        "burgerMaker(\"meat\", \"bread\", \"lettuce\")"
      ],
      "execution_count": null,
      "outputs": [
        {
          "output_type": "stream",
          "name": "stdout",
          "text": [
            "meat + bread + lettuce is a burger! \n"
          ]
        }
      ]
    },
    {
      "cell_type": "code",
      "metadata": {
        "id": "m2RPragxQ4lV",
        "colab": {
          "base_uri": "https://localhost:8080/"
        },
        "outputId": "9c52ca22-ac77-40b8-a9ab-635bdf6b4112"
      },
      "source": [
        "#function的概念是把程式碼封裝起來重複使用\n",
        "#字母轉換\n",
        "\n",
        "def wordDetect(s):\n",
        "  if len(s) >= 5:\n",
        "    print (\"original\")\n",
        "  elif s == s.lower():\n",
        "    print (\"lower\")\n",
        "  elif s == s.upper():\n",
        "    print (\"upper\")\n",
        "  else:\n",
        "    print (\"bad result\")\n",
        "\n",
        "wordDetect(\"hello\")\n",
        "\n",
        "\n",
        "\n",
        "#若不用function\n",
        "s1=\"world\"\n",
        "if len(s1) >= 5:\n",
        "    print (\"original\")\n",
        "elif s1 == s1.lower():\n",
        "  print (\"lower\")\n",
        "elif s1 == s1.upper():\n",
        "  print (\"upper\")\n",
        "else:\n",
        "  print (\"bad result\")\n"
      ],
      "execution_count": null,
      "outputs": [
        {
          "output_type": "stream",
          "name": "stdout",
          "text": [
            "original\n",
            "lower\n"
          ]
        }
      ]
    },
    {
      "cell_type": "code",
      "metadata": {
        "id": "WTQgrfLaaE4K"
      },
      "source": [
        "# function\n",
        "\n",
        "\n",
        "# function就像是某種機器，你把原料丟進去，就會幫你做出東西來\n",
        "\n",
        "\n",
        "def burgerMaker(material1, material2, material3):\n",
        "\tprint (\"%s + %s + %s is a burger! \" % (material1, material2, material3))\n",
        "\n",
        "burgerMaker(\"meat\", \"bread\", \"lettuce\")\n",
        "\n",
        "\n",
        "#function的概念是把程式碼封裝起來重複使用\n",
        "#字母轉換\n",
        "\n",
        "def wordDetect(s):\n",
        "  if len(s) >= 5:\n",
        "    print (\"original\")\n",
        "  elif s == s.lower():\n",
        "    print (\"lower\")\n",
        "  elif s == s.upper():\n",
        "    print (\"upper\")\n",
        "  else:\n",
        "    print (\"else result\")\n",
        "\n",
        "wordDetect(\"Hello\")\n",
        "\n",
        "#問題2：我們可以用if if else嗎？\n",
        "\n",
        "#練習4: 模仿wordDetect function，並試著改寫\n",
        "\n",
        "\n",
        "\n",
        "\n",
        "\n"
      ],
      "execution_count": null,
      "outputs": []
    },
    {
      "cell_type": "code",
      "metadata": {
        "id": "Jhyecm-UeODD",
        "colab": {
          "base_uri": "https://localhost:8080/",
          "height": 52
        },
        "outputId": "6045f671-6067-4fce-b4f5-0679949445f6"
      },
      "source": [
        "#return\n",
        "\n",
        "def wordUpper(s):\n",
        "  return s.upper();\n",
        "\n",
        "wordUpper(\"test\")\n",
        "\n",
        "\n",
        "#用print就很方便了？ 為什麼還需要return?\n",
        "# def say_hi():\n",
        "    # print(\"Hi!\")\n",
        "\n",
        "# def get_greeting():\n",
        "    # return \"Hi!\"\n",
        "\n",
        "a = wordUpper(\"test\")\n",
        "b = \"word\"\n",
        "\n",
        "print(a + b)\n",
        "\n",
        "\n",
        "#練習4: 試著做一個function，名字叫wordTransForm，有兩個input。會將兩個文字轉換成大寫相加\n",
        "\n",
        "'''\n",
        "hint:\n",
        "\n",
        "def wordTransForm(string1, string2):\n",
        "  return ...\n",
        "\n",
        "wordTransForm()\n",
        "'''\n",
        "\n",
        "\n",
        "\n",
        "\n",
        "\n",
        "\n",
        "\n",
        "\n",
        "\n",
        "\n",
        "def wordTransForm(string1, string2):\n",
        "  return string1.upper() + string2.upper()\n",
        "\n",
        "wordTransForm(\"test\", \"word\")\n",
        "\n",
        "\n",
        "\n"
      ],
      "execution_count": null,
      "outputs": [
        {
          "output_type": "stream",
          "name": "stdout",
          "text": [
            "TESTword\n"
          ]
        },
        {
          "output_type": "execute_result",
          "data": {
            "text/plain": [
              "'TESTWORD'"
            ],
            "application/vnd.google.colaboratory.intrinsic+json": {
              "type": "string"
            }
          },
          "metadata": {},
          "execution_count": 13
        }
      ]
    },
    {
      "cell_type": "code",
      "metadata": {
        "id": "6MlrHvp0T7iM",
        "colab": {
          "base_uri": "https://localhost:8080/"
        },
        "outputId": "76215863-9426-4295-ffbb-74abd95f45ab"
      },
      "source": [
        "import math\n",
        "\n",
        "# Square root 開根號\n",
        "math.sqrt(25)"
      ],
      "execution_count": null,
      "outputs": [
        {
          "output_type": "execute_result",
          "data": {
            "text/plain": [
              "5.0"
            ]
          },
          "metadata": {},
          "execution_count": 1
        }
      ]
    },
    {
      "cell_type": "code",
      "metadata": {
        "id": "d-fhD_Twi0zT",
        "colab": {
          "base_uri": "https://localhost:8080/",
          "height": 51
        },
        "outputId": "2ed322e7-8c0f-4219-960b-f0272a6d095c"
      },
      "source": [
        "#補充 Library: 已經寫好的function!\n",
        "\n",
        "import math\n",
        "\n",
        "# Square root 開根號\n",
        "math.sqrt(25)\n",
        "\n",
        "#from module import function\n",
        "\n",
        "from math import sqrt\n",
        "\n",
        "sqrt(25)\n"
      ],
      "execution_count": null,
      "outputs": [
        {
          "output_type": "stream",
          "text": [
            "5.0\n",
            "5.0\n"
          ],
          "name": "stdout"
        }
      ]
    },
    {
      "cell_type": "code",
      "metadata": {
        "colab": {
          "base_uri": "https://localhost:8080/"
        },
        "id": "uPjirngjZP_u",
        "outputId": "e8fa1876-8f3f-4f3d-dc40-b53cf983da91"
      },
      "source": [
        "string_1 = \"test\"\n",
        "print(string_1.upper())"
      ],
      "execution_count": null,
      "outputs": [
        {
          "output_type": "stream",
          "text": [
            "TEST\n"
          ],
          "name": "stdout"
        }
      ]
    },
    {
      "cell_type": "code",
      "metadata": {
        "id": "_ECPfUxvYUcq",
        "colab": {
          "base_uri": "https://localhost:8080/"
        },
        "outputId": "c7da8959-86ef-4e9c-8ad8-9a4d1190d585"
      },
      "source": [
        "# python型別三: list\n",
        "\n",
        "#list\n",
        "#list就好像置物櫃\n",
        "#list_name = [item_1, item_2]\n",
        "\n",
        "zoo_animals = [\"Dog\", \"Cat\", \"Bird\",\"Tiger\", \"Elephant\"];\n",
        "\n",
        "\n",
        "if len(zoo_animals) > 3:\n",
        "  print (\"The first animal at the zoo is the \" + zoo_animals[0])\n",
        "  print (\"The second animal at the zoo is the \" + zoo_animals[1])\n",
        "  print (\"The third animal at the zoo is the \" + zoo_animals[2])\n",
        "  print (\"The fourth animal at the zoo is the \" + zoo_animals[3])\n",
        "\n",
        "def countAnimals(a):\n",
        "  return len(a)\n",
        "\n",
        "num = countAnimals(zoo_animals)\n",
        "print(num)"
      ],
      "execution_count": null,
      "outputs": [
        {
          "output_type": "stream",
          "name": "stdout",
          "text": [
            "The first animal at the zoo is the Dog\n",
            "The second animal at the zoo is the Cat\n",
            "The third animal at the zoo is the Bird\n",
            "The fourth animal at the zoo is the Tiger\n",
            "5\n"
          ]
        }
      ]
    },
    {
      "cell_type": "code",
      "metadata": {
        "id": "KDkJnZKTkuta",
        "colab": {
          "base_uri": "https://localhost:8080/"
        },
        "outputId": "8acec43d-6bcc-4d6c-cb9d-95283e56bb4a"
      },
      "source": [
        "#補充 List Slicing\n",
        "\n",
        "suitcase = [\n",
        "\"sunglasses\",\n",
        "\"hat\",\n",
        "\"passport\",\n",
        "\"laptop\",\n",
        "\"suit\",\n",
        "\"shoes\"\n",
        "]\n",
        "\n",
        "\n",
        "# The first and second items (index zero and one)\n",
        "first = suitcase[0:2] # 0 之後, 2 之前 0 <= x < 2\n",
        "print (first)\n",
        "\n",
        "# Third and fourth items (index two and three)\n",
        "middle = suitcase[2:4]\n",
        "print (middle)\n",
        "\n",
        "# The last two items (index four and five)\n",
        "last =  suitcase[4:6]\n",
        "print (last)"
      ],
      "execution_count": null,
      "outputs": [
        {
          "output_type": "stream",
          "name": "stdout",
          "text": [
            "['sunglasses', 'hat']\n",
            "['passport', 'laptop']\n",
            "['suit', 'shoes']\n"
          ]
        }
      ]
    },
    {
      "cell_type": "code",
      "metadata": {
        "id": "nKBGOQnMk4RZ",
        "colab": {
          "base_uri": "https://localhost:8080/"
        },
        "outputId": "5eb9a3da-a3ff-4e66-b4d5-1fe66cf5d197"
      },
      "source": [
        "animals = \"catdogfrog\"\n",
        "\n",
        "# The first three characters of animals\n",
        "cat = animals[:3]\n",
        "print (cat)\n",
        "# The fourth through sixth characters\n",
        "dog = animals[3:]\n",
        "print (dog)\n",
        "\n",
        "# From the seventh character to the end\n",
        "frog = animals[6:]\n",
        "print (frog)"
      ],
      "execution_count": null,
      "outputs": [
        {
          "output_type": "stream",
          "name": "stdout",
          "text": [
            "cat\n",
            "dogfrog\n",
            "frog\n"
          ]
        }
      ]
    },
    {
      "cell_type": "code",
      "source": [
        "# 練習\n",
        "\n",
        "zoo_animals_1 = [\"Dog\", \"Cat\", \"Bird\",\"Tiger\", \"Elephant\"];\n",
        "zoo_animals_2 =  [\"Dog\"]\n",
        "\n",
        "\n",
        "# 檢查 Animals 裡面有沒有超過 2 隻動物，如果有的話 print (\"yes\") , 沒有的話 print (\"no\")\n",
        "\n",
        "\n",
        "# len()\n",
        "# if else\n",
        "\n",
        "def checkAnimals(animals):\n",
        "  if (len(animals) > 2):\n",
        "    print('yes')\n",
        "  else:\n",
        "    print('no')\n",
        "\n",
        "\n",
        "\n",
        "checkAnimals(zoo_animals_1) #  yes\n",
        "\n",
        "checkAnimals(zoo_animals_2) # no"
      ],
      "metadata": {
        "colab": {
          "base_uri": "https://localhost:8080/"
        },
        "id": "VivG7XYkGOZd",
        "outputId": "23035423-85e1-461d-dd89-8d33ec631e09"
      },
      "execution_count": null,
      "outputs": [
        {
          "output_type": "stream",
          "name": "stdout",
          "text": [
            "yes\n",
            "no\n"
          ]
        }
      ]
    },
    {
      "cell_type": "code",
      "source": [
        "# math\n",
        "\n",
        "a = 5\n",
        "b = 6\n",
        "c = 8\n",
        "d = 9\n",
        "\n",
        "\n",
        "# 每個紅利(數字)都要兩倍\n",
        "\n",
        "#print(a * 2)\n",
        "#print(b * 2)\n",
        "#print(c * 2)\n",
        "#print(d * 2)\n",
        "\n",
        "\n",
        "num_list = [5, 6, 8, 9]\n",
        "\n",
        "# 1. x = 5\n",
        "# 2. x = 6\n",
        "# 3. X = 8\n",
        "# 4. x = 9\n",
        "\n",
        "for x in num_list:\n",
        "  print(x * 2)\n",
        "\n"
      ],
      "metadata": {
        "colab": {
          "base_uri": "https://localhost:8080/"
        },
        "id": "dNz7HFEIKIok",
        "outputId": "10742e7e-8145-4d9e-8ec7-67fbb9c38f8a"
      },
      "execution_count": null,
      "outputs": [
        {
          "output_type": "stream",
          "name": "stdout",
          "text": [
            "10\n",
            "12\n",
            "16\n",
            "18\n"
          ]
        }
      ]
    },
    {
      "cell_type": "code",
      "metadata": {
        "id": "vA3VgeJUmTAa",
        "colab": {
          "base_uri": "https://localhost:8080/"
        },
        "outputId": "b8996bba-c7d5-43c8-8b35-a42a9fdfcd79"
      },
      "source": [
        "#Loop 迴圈邏輯\n",
        "\n",
        "zoo_animals = [\"Dog\", \"Cat\", \"Bird\",\"Tiger\", \"Elephant\"];\n",
        "#1\n",
        "#print (zoo_animals[0])\n",
        "#print (zoo_animals[1])\n",
        "#print (zoo_animals[2])\n",
        "#print (zoo_animals[3])\n",
        "#print (zoo_animals[4])\n",
        "\n",
        "#2\n",
        "print(zoo_animals[0:])\n",
        "\n",
        "#3\n",
        "for animal in zoo_animals:\n",
        "  print(animal)"
      ],
      "execution_count": null,
      "outputs": [
        {
          "output_type": "stream",
          "name": "stdout",
          "text": [
            "['Dog', 'Cat', 'Bird', 'Tiger', 'Elephant']\n",
            "Dog\n",
            "Cat\n",
            "Bird\n",
            "Tiger\n",
            "Elephant\n"
          ]
        }
      ]
    },
    {
      "cell_type": "code",
      "source": [
        "a = 'Tiger'\n",
        "b = 'tiger'\n",
        "\n",
        "print(a == b)\n",
        "\n",
        "# number, string, list, Boolean\n",
        "\n",
        "# Boolean: True / False"
      ],
      "metadata": {
        "colab": {
          "base_uri": "https://localhost:8080/"
        },
        "id": "SoN9NTcEO1Xb",
        "outputId": "84ba66af-71e3-4ae7-c644-4237cea124c8"
      },
      "execution_count": null,
      "outputs": [
        {
          "output_type": "stream",
          "name": "stdout",
          "text": [
            "False\n"
          ]
        }
      ]
    },
    {
      "cell_type": "code",
      "source": [
        "# 練習\n",
        "\n",
        "zoo_animals_1 = [\"Dog\", \"Cat\", \"Bird\",\"Tiger\", \"Elephant\"];\n",
        "zoo_animals_2 =  [\"Dog\"]\n",
        "\n",
        "\n",
        "# 檢查 Animals 裡面有沒有 Tiger ，如果有的話 print (\"yes\") , 沒有的話 print (\"no\")\n",
        "\n",
        "\n",
        "\n",
        "\n",
        "# for loop\n",
        "# if else\n",
        "\n",
        "def isTiger(animals):\n",
        "  tiger = 'Tiger'\n",
        "  check = False\n",
        "  for animal in animals:\n",
        "    if (animal == tiger):\n",
        "      check = True\n",
        "\n",
        "  if(check):\n",
        "    print('yes')\n",
        "  else:\n",
        "    print('no')\n",
        "\n",
        "\n",
        "\n",
        "\n",
        "isTiger(zoo_animals_1) #  yes\n",
        "\n",
        "isTiger(zoo_animals_2) # no"
      ],
      "metadata": {
        "colab": {
          "base_uri": "https://localhost:8080/"
        },
        "id": "WRmaiazKL8c3",
        "outputId": "a3fef1aa-a261-4853-e3e1-5ab765222c45"
      },
      "execution_count": null,
      "outputs": [
        {
          "output_type": "stream",
          "name": "stdout",
          "text": [
            "yes\n",
            "no\n"
          ]
        }
      ]
    },
    {
      "cell_type": "code",
      "metadata": {
        "id": "7U9IPOgXmBxu",
        "colab": {
          "base_uri": "https://localhost:8080/"
        },
        "outputId": "8cbd7372-0c23-4a3f-ea17-e14086da6688"
      },
      "source": [
        "my_list = [1,9,3,8,5,7]\n",
        "\n",
        "print (my_list[0] * 2)\n",
        "print (my_list[1] * 2)\n",
        "print (my_list[2] * 2)\n",
        "print (my_list[3] * 2)\n",
        "print (my_list[4] * 2)\n",
        "print (my_list[5] * 2)\n",
        "\n",
        "\n",
        "for number in my_list:\n",
        "  print (number * 2)\n",
        "\n",
        "# for fun in my_list:\n",
        "# \tprint (2 * fun)\n"
      ],
      "execution_count": null,
      "outputs": [
        {
          "output_type": "stream",
          "name": "stdout",
          "text": [
            "2\n",
            "18\n",
            "6\n",
            "16\n",
            "10\n",
            "14\n",
            "2\n",
            "18\n",
            "6\n",
            "16\n",
            "10\n",
            "14\n"
          ]
        }
      ]
    },
    {
      "cell_type": "code",
      "metadata": {
        "id": "Yo62k4OE9Fjj",
        "outputId": "af126668-74d5-4c3a-ab24-5fd967f73f52",
        "colab": {
          "base_uri": "https://localhost:8080/"
        }
      },
      "source": [
        "zoo_animals = [\"Dog\", \"Cat\", \"Bird\",\"Tiger\", \"Elephant\"];\n",
        "\n",
        "#練習 使用for迴圈 print出裡面的動物\n",
        "\n",
        "for ... in zoo_animals:\n",
        "\n",
        "\n",
        "\n",
        "\n",
        "\n",
        "\n",
        "\n",
        "\n",
        "\n",
        "# for animal in zoo_animals:\n",
        "#   print(animal)"
      ],
      "execution_count": null,
      "outputs": [
        {
          "output_type": "stream",
          "name": "stdout",
          "text": [
            "Dog\n",
            "Cat\n",
            "Bird\n",
            "Tiger\n",
            "Elephant\n"
          ]
        }
      ]
    }
  ]
}